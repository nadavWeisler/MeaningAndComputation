{
 "cells": [
  {
   "cell_type": "code",
   "execution_count": 7,
   "metadata": {
    "collapsed": true
   },
   "outputs": [],
   "source": [
    "\n",
    "import gensim\n",
    "import pandas as pd"
   ]
  },
  {
   "cell_type": "code",
   "execution_count": 1,
   "metadata": {
    "tags": []
   },
   "outputs": [],
   "source": [
    "# Exports data from corpus\n",
    "sentences, cur_sent = list(), list()\n",
    "with open('./wackypedia_en1.words10.20Mwords') as f:\n",
    " for line in f:\n",
    "    line = line.strip()\n",
    "    if line == '</s>':\n",
    "        sentences.append(cur_sent)\n",
    "        cur_sent = list()\n",
    "    elif line != '<s>' and not line.startswith('<text') and not line.startswith('</text'):\n",
    "        cur_sent.append(line.split('\\t')[0])"
   ]
  },
  {
   "cell_type": "code",
   "execution_count": 12,
   "metadata": {},
   "outputs": [],
   "source": [
    "# Builds the models\n",
    "model_big_ten = gensim.models.Word2Vec(sentences, min_count=5, window=1, vector_size=10)\n",
    "model_small_ten = gensim.models.Word2Vec(sentences, min_count=5, window=10, vector_size=10)\n",
    "\n",
    "model_big_five = gensim.models.Word2Vec(sentences, min_count=5, window=1, vector_size=500)\n",
    "model_small_five = gensim.models.Word2Vec(sentences, min_count=5, window=10, vector_size=500)\n",
    "\n",
    "models = [model_big_ten, model_big_five, model_small_ten, model_small_five]"
   ]
  },
  {
   "source": [
    "\n",
    "# Makes the similarity lists\n",
    "words = pd.read_csv('./SimLex-999/SimLex-999.txt', delimiter='\\t')\n",
    "pairs = list(zip(words['word1'],words['word2']))\n",
    "results = [[], [], [], []]\n",
    "\n",
    "\n",
    "for pair in pairs:\n",
    "    for index, model in enumerate(models):\n",
    "        try:\n",
    "            similarity = models[index].wv.similarity(pair[0], pair[1])\n",
    "        except KeyError:\n",
    "            similarity = 0\n",
    "        finally:\n",
    "            results[index].append(similarity)\n"
   ],
   "cell_type": "code",
   "metadata": {
    "tags": []
   },
   "execution_count": null,
   "outputs": []
  },
  {
   "cell_type": "code",
   "execution_count": null,
   "metadata": {},
   "outputs": [],
   "source": []
  }
 ],
 "metadata": {
  "kernelspec": {
   "name": "python368jvsc74a57bd0b1411b1b95c1bf0479e3d7cdc7e102371516c7735698e266ce38042d8c148f2e",
   "display_name": "Python 3.6.8 64-bit"
  },
  "language_info": {
   "codemirror_mode": {
    "name": "ipython",
    "version": 2
   },
   "file_extension": ".py",
   "mimetype": "text/x-python",
   "name": "python",
   "nbconvert_exporter": "python",
   "pygments_lexer": "ipython2",
   "version": "3.6.8"
  }
 },
 "nbformat": 4,
 "nbformat_minor": 0
}