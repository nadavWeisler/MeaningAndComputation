{
 "cells": [
  {
   "cell_type": "code",
   "execution_count": 2,
   "source": [
    "from sklearn.ensemble import RandomForestClassifier\r\n",
    "from sklearn.linear_model import LogisticRegression, RidgeClassifier, SGDClassifier\r\n",
    "from sklearn.pipeline import Pipeline\r\n",
    "from sklearn.feature_extraction.text import CountVectorizer\r\n",
    "import pandas as pd\r\n",
    "import gensim\r\n",
    "import scipy as sp"
   ],
   "outputs": [],
   "metadata": {}
  },
  {
   "cell_type": "markdown",
   "source": [
    "# Base Run"
   ],
   "metadata": {}
  },
  {
   "cell_type": "code",
   "execution_count": 3,
   "source": [
    "train_data = pd.read_csv(\"./data/emotion-labels-train.csv\")\r\n",
    "test_data = pd.read_csv(\"./data/emotion-labels-test.csv\")"
   ],
   "outputs": [],
   "metadata": {}
  },
  {
   "cell_type": "code",
   "execution_count": 4,
   "source": [
    "algorithms = [RandomForestClassifier(), LogisticRegression()]"
   ],
   "outputs": [],
   "metadata": {}
  },
  {
   "cell_type": "code",
   "execution_count": 5,
   "source": [
    "count_vectorizer=CountVectorizer(analyzer='word', ngram_range=(1, 2))\r\n",
    "x = count_vectorizer.fit_transform(train_data[\"text\"])\r\n",
    "print(x.shape)"
   ],
   "outputs": [
    {
     "output_type": "stream",
     "name": "stdout",
     "text": [
      "(3613, 43357)\n"
     ]
    }
   ],
   "metadata": {}
  },
  {
   "cell_type": "code",
   "execution_count": 6,
   "source": [
    "def calculate_accuracy(predicted_data):\r\n",
    "    count_equals = 0\r\n",
    "    for idx, row in test_data.iterrows():\r\n",
    "        if row[\"label\"] == predicted_data[idx]:\r\n",
    "            count_equals += 1\r\n",
    "    print(f\"accuracy={count_equals/len(predicted_data)}\")"
   ],
   "outputs": [],
   "metadata": {}
  },
  {
   "cell_type": "code",
   "execution_count": 7,
   "source": [
    "for algorithm_under_test in algorithms:\r\n",
    "    pipe = Pipeline([('vectorizer', count_vectorizer),\r\n",
    "                    ('algo', algorithm_under_test)])\r\n",
    "    pipe.fit(train_data[\"text\"], train_data[\"label\"])\r\n",
    "    predicted = pipe.predict(test_data[\"text\"])\r\n",
    "    calculate_accuracy(predicted)"
   ],
   "outputs": [
    {
     "output_type": "stream",
     "name": "stdout",
     "text": [
      "accuracy=0.7972628898790579\n",
      "accuracy=0.7721196690006366\n"
     ]
    }
   ],
   "metadata": {}
  },
  {
   "cell_type": "markdown",
   "source": [
    "# Data Processing"
   ],
   "metadata": {}
  },
  {
   "cell_type": "code",
   "execution_count": 8,
   "source": [
    "train_data_list = list()\r\n",
    "for index, row in train_data.iterrows():\r\n",
    "    train_data_list.append(row[\"text\"])"
   ],
   "outputs": [],
   "metadata": {}
  },
  {
   "cell_type": "code",
   "execution_count": 9,
   "source": [
    "# Builds the models\r\n",
    "\r\n",
    "model_big_ten = gensim.models.Word2Vec(\r\n",
    "    train_data_list, min_count=5, window=1, vector_size=10)\r\n",
    "model_small_ten = gensim.models.Word2Vec(\r\n",
    "    train_data_list, min_count=5, window=10, vector_size=10)\r\n",
    "\r\n",
    "model_big_five = gensim.models.Word2Vec(\r\n",
    "    train_data_list, min_count=5, window=1, vector_size=500)\r\n",
    "model_small_five = gensim.models.Word2Vec(\r\n",
    "    train_data_list, min_count=5, window=10, vector_size=500)\r\n",
    "\r\n",
    "models = [model_big_ten, model_big_five, model_small_ten, model_small_five]"
   ],
   "outputs": [],
   "metadata": {}
  },
  {
   "cell_type": "code",
   "execution_count": 10,
   "source": [
    "# Makes the similarity lists\r\n",
    "words = pd.read_csv('./data/SimLex-999/SimLex-999.txt', delimiter='\\t')\r\n",
    "pairs = list(zip(words['word1'], words['word2']))\r\n",
    "golden_sim = words['SimLex999']\r\n",
    "results = [[], [], [], []]\r\n",
    "for j in range(len(models)):\r\n",
    "    for i in range(len(pairs)):\r\n",
    "        try:\r\n",
    "            similarity = models[j].wv.similarity(pairs[i][0], pairs[i][1])\r\n",
    "        except KeyError:\r\n",
    "            similarity = 0\r\n",
    "        finally:\r\n",
    "            results[j].append(similarity)"
   ],
   "outputs": [],
   "metadata": {}
  },
  {
   "cell_type": "code",
   "execution_count": 11,
   "source": [
    "cor_results = []\r\n",
    "golden_sim = words['SimLex999']\r\n",
    "for result in results:\r\n",
    "    sim_res = sp.stats.spearmanr(result, golden_sim)\r\n",
    "    cor_results.append(sim_res)\r\n",
    "print(cor_results)"
   ],
   "outputs": [
    {
     "output_type": "stream",
     "name": "stdout",
     "text": [
      "[SpearmanrResult(correlation=nan, pvalue=nan), SpearmanrResult(correlation=nan, pvalue=nan), SpearmanrResult(correlation=nan, pvalue=nan), SpearmanrResult(correlation=nan, pvalue=nan)]\n"
     ]
    },
    {
     "output_type": "stream",
     "name": "stderr",
     "text": [
      "C:\\Users\\t-nweisler\\Anaconda3\\lib\\site-packages\\scipy\\stats\\stats.py:4264: SpearmanRConstantInputWarning: An input array is constant; the correlation coefficent is not defined.\n",
      "  warnings.warn(SpearmanRConstantInputWarning())\n"
     ]
    }
   ],
   "metadata": {}
  }
 ],
 "metadata": {
  "orig_nbformat": 4,
  "language_info": {
   "name": "python",
   "version": "3.8.8",
   "mimetype": "text/x-python",
   "codemirror_mode": {
    "name": "ipython",
    "version": 3
   },
   "pygments_lexer": "ipython3",
   "nbconvert_exporter": "python",
   "file_extension": ".py"
  },
  "kernelspec": {
   "name": "python3",
   "display_name": "Python 3.8.8 64-bit ('base': conda)"
  },
  "interpreter": {
   "hash": "5e49d1d782d0c81664cfef69a5a300da04b0c8dd1f7059897730ec0e8bf9da48"
  }
 },
 "nbformat": 4,
 "nbformat_minor": 2
}