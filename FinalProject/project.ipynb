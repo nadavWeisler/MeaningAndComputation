{
 "cells": [
  {
   "cell_type": "code",
   "execution_count": 15,
   "source": [
    "from sklearn.ensemble import RandomForestClassifier\r\n",
    "from sklearn.linear_model import LogisticRegression\r\n",
    "from sklearn.pipeline import Pipeline\r\n",
    "from sklearn.feature_extraction.text import CountVectorizer\r\n",
    "import pandas as pd\r\n",
    "from nltk.tokenize import RegexpTokenizer\r\n",
    "from brown_clustering import Corpus, BrownClustering"
   ],
   "outputs": [],
   "metadata": {}
  },
  {
   "cell_type": "markdown",
   "source": [
    "# Base Run"
   ],
   "metadata": {}
  },
  {
   "cell_type": "code",
   "execution_count": 2,
   "source": [
    "train_data = pd.read_csv(\"./data/emotion-labels-train.csv\")\r\n",
    "test_data = pd.read_csv(\"./data/emotion-labels-test.csv\")"
   ],
   "outputs": [],
   "metadata": {}
  },
  {
   "cell_type": "code",
   "execution_count": 3,
   "source": [
    "algos = [RandomForestClassifier(), LogisticRegression()]"
   ],
   "outputs": [],
   "metadata": {}
  },
  {
   "cell_type": "code",
   "execution_count": 7,
   "source": [
    "for algo_under_test in algos:\r\n",
    "\tcount_vectorizer=CountVectorizer(analyzer='word', ngram_range=(1, 2))\r\n",
    "\tpipe = Pipeline([('vectorizer', count_vectorizer),('algo', algo_under_test)])\r\n",
    "\tpipe.fit(train_data[\"text\"], train_data[\"label\"])\r\n",
    "\tpredicted = pipe.predict(test_data[\"text\"])\r\n",
    "\tcalculate_accuracy(predicted)"
   ],
   "outputs": [
    {
     "output_type": "stream",
     "name": "stdout",
     "text": [
      "accuracy=0.800763844684914\n",
      "accuracy=0.7721196690006366\n"
     ]
    }
   ],
   "metadata": {}
  },
  {
   "cell_type": "code",
   "execution_count": 6,
   "source": [
    "def calculate_accuracy(predicted_data):\r\n",
    "\tcount_equals=0\r\n",
    "\tfor idx, row in test_data.iterrows():\r\n",
    "\t\tif row[\"label\"]==predicted_data[idx]:\r\n",
    "\t\t\tcount_equals+=1\r\n",
    "\tprint(f\"accuracy={count_equals/len(predicted_data)}\")"
   ],
   "outputs": [],
   "metadata": {}
  },
  {
   "cell_type": "markdown",
   "source": [
    "# Data Processing"
   ],
   "metadata": {}
  },
  {
   "cell_type": "code",
   "execution_count": 13,
   "source": [
    "train_as_list = train_data[\"text\"].tolist()\r\n",
    "# toeknize\r\n",
    "tokenizer = RegexpTokenizer(r'\\w+')\r\n",
    "train_data_tokenized = [w.lower() for w in train_as_list]\r\n",
    "train_data_tokenized = [tokenizer.tokenize(i) for i in train_data_tokenized]"
   ],
   "outputs": [],
   "metadata": {}
  },
  {
   "cell_type": "code",
   "execution_count": 16,
   "source": [
    "corpus = Corpus(train_data_tokenized, 0.001)\r\n",
    "clustering = BrownClustering(corpus, 6)\r\n",
    "clustering.train()"
   ],
   "outputs": [],
   "metadata": {}
  }
 ],
 "metadata": {
  "orig_nbformat": 4,
  "language_info": {
   "name": "python",
   "version": "3.6.8",
   "mimetype": "text/x-python",
   "codemirror_mode": {
    "name": "ipython",
    "version": 3
   },
   "pygments_lexer": "ipython3",
   "nbconvert_exporter": "python",
   "file_extension": ".py"
  },
  "kernelspec": {
   "name": "python3",
   "display_name": "Python 3.6.8 64-bit"
  },
  "interpreter": {
   "hash": "b1411b1b95c1bf0479e3d7cdc7e102371516c7735698e266ce38042d8c148f2e"
  }
 },
 "nbformat": 4,
 "nbformat_minor": 2
}