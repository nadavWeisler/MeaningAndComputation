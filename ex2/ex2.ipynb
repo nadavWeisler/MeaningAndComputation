{
 "cells": [
  {
   "cell_type": "code",
   "execution_count": null,
   "metadata": {
    "collapsed": true
   },
   "outputs": [],
   "source": [
    "\n",
    "from gensim import models"
   ]
  },
  {
   "cell_type": "code",
   "execution_count": null,
   "metadata": {},
   "outputs": [],
   "source": [
    "sentences, cur_sent = list(), list()\n",
    "with open('wackypedia_en1.words10.20Mwords', errors='ignore') as f:\n",
    " for line in f:\n",
    " line = line.strip()\n",
    " if line == '</s>':\n",
    " sentences.append(cur_sent)\n",
    " cur_sent = list()\n",
    " elif line != '<s>' and not line.startswith('<text') and not line.startswith('</text'):\n",
    " cur_sent.append(line.split('\\t')[0])\n"
   ]
  },
  {
   "cell_type": "code",
   "execution_count": null,
   "metadata": {},
   "outputs": [],
   "source": [
    "model_big_ten = gensim.models.Word2Vec(sentences,min_count=5,window=1,size=10)\n",
    "model_small_ten = gensim.models.Word2Vec(sentences,min_count=5,window=10,size=10)\n",
    "\n",
    "model_big_five = gensim.models.Word2Vec(sentences,min_count=5,window=1,size=500)\n",
    "model_small_five = gensim.models.Word2Vec(sentences,min_count=5,window=10,size=500)"
   ]
  }
 ],
 "metadata": {
  "kernelspec": {
   "display_name": "Python 3",
   "language": "python",
   "name": "python3"
  },
  "language_info": {
   "codemirror_mode": {
    "name": "ipython",
    "version": 2
   },
   "file_extension": ".py",
   "mimetype": "text/x-python",
   "name": "python",
   "nbconvert_exporter": "python",
   "pygments_lexer": "ipython2",
   "version": "2.7.6"
  }
 },
 "nbformat": 4,
 "nbformat_minor": 0
}