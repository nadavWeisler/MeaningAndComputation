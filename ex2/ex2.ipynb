{
 "cells": [
  {
   "cell_type": "code",
   "execution_count": 13,
   "metadata": {
    "collapsed": true
   },
   "outputs": [
    {
     "output_type": "stream",
     "name": "stdout",
     "text": [
      "done1\n"
     ]
    }
   ],
   "source": [
    "\n",
    "import gensim\n",
    "import pandas as pd\n",
    "import scipy as sp\n",
    "print(\"done1\")"
   ]
  },
  {
   "cell_type": "code",
   "execution_count": 15,
   "metadata": {
    "tags": []
   },
   "outputs": [
    {
     "output_type": "stream",
     "name": "stdout",
     "text": [
      "done2\n"
     ]
    }
   ],
   "source": [
    "# Exports data from corpus\n",
    "sentences, cur_sent = list(), list()\n",
    "with open('./wackypedia_en1.words10.20Mwords') as f:\n",
    " for line in f:\n",
    "    line = line.strip()\n",
    "    if line == '</s>':\n",
    "        sentences.append(cur_sent)\n",
    "        cur_sent = list()\n",
    "    elif line != '<s>' and not line.startswith('<text') and not line.startswith('</text'):\n",
    "        cur_sent.append(line.split('\\t')[0])\n",
    "print(\"done2\")"
   ]
  },
  {
   "cell_type": "code",
   "execution_count": 16,
   "metadata": {},
   "outputs": [
    {
     "output_type": "stream",
     "name": "stdout",
     "text": [
      "done3\n"
     ]
    }
   ],
   "source": [
    "# Builds the models\n",
    "model_big_ten = gensim.models.Word2Vec(sentences, min_count=5, window=1, vector_size=10)\n",
    "model_small_ten = gensim.models.Word2Vec(sentences, min_count=5, window=10, vector_size=10)\n",
    "\n",
    "model_big_five = gensim.models.Word2Vec(sentences, min_count=5, window=1, vector_size=500)\n",
    "model_small_five = gensim.models.Word2Vec(sentences, min_count=5, window=10, vector_size=500)\n",
    "\n",
    "models = [model_big_ten, model_big_five, model_small_ten, model_small_five]\n",
    "print(\"done3\")"
   ]
  },
  {
   "source": [
    "\n",
    "# Makes the similarity lists\n",
    "words = pd.read_csv('./SimLex-999/SimLex-999.txt', delimiter='\\t')\n",
    "pairs = list(zip(words['word1'],words['word2']))\n",
    "print(\"done4\")"
   ],
   "cell_type": "code",
   "metadata": {
    "tags": []
   },
   "execution_count": 17,
   "outputs": [
    {
     "output_type": "stream",
     "name": "stdout",
     "text": [
      "done4\n"
     ]
    }
   ]
  },
  {
   "source": [
    "results = [[], [], [], []]\n",
    "for j in range(len(models)):\n",
    "    for i in range(len(pairs)):\n",
    "        try:\n",
    "            similarity = models[j].wv.similarity(pairs[i][0], pairs[i][1])\n",
    "        except KeyError:\n",
    "            similarity = 0\n",
    "        finally:\n",
    "            results[j].append(similarity)\n",
    "print(\"done5\")"
   ],
   "cell_type": "code",
   "metadata": {
    "tags": []
   },
   "execution_count": 40,
   "outputs": [
    {
     "output_type": "stream",
     "name": "stdout",
     "text": [
      "done5\n"
     ]
    }
   ]
  },
  {
   "cell_type": "code",
   "execution_count": 41,
   "metadata": {
    "tags": []
   },
   "outputs": [
    {
     "output_type": "stream",
     "name": "stdout",
     "text": [
      "999\n999\n<built-in function len>\n999\n<built-in function len>\n999\n<built-in function len>\n999\n<built-in function len>\n[SpearmanrResult(correlation=0.12560314779237938, pvalue=6.870165761039629e-05), SpearmanrResult(correlation=0.2134105181111443, pvalue=9.395115517117991e-12), SpearmanrResult(correlation=0.19143004897871518, pvalue=1.0644054203802964e-09), SpearmanrResult(correlation=0.22525276644079065, pvalue=5.872370977522204e-13)]\n"
     ]
    }
   ],
   "source": [
    "cor_results = []\r\n",
    "golden_sim = words['SimLex999']\r\n",
    "for result in results:\r\n",
    "    sim_res = sp.stats.spearmanr(result, golden_sim)\r\n",
    "    cor_results.append(sim_res)\r\n",
    "print(cor_results)"
   ]
  },
  {
   "cell_type": "code",
   "execution_count": null,
   "metadata": {},
   "outputs": [],
   "source": []
  }
 ],
 "metadata": {
  "kernelspec": {
   "name": "python395jvsc74a57bd0606544874517a93eeb5c4fd8b567e16aa4bb33c2bfdc9d3fad8c7c7e88f54736",
   "display_name": "Python 3.9.5 64-bit"
  },
  "language_info": {
   "codemirror_mode": {
    "name": "ipython",
    "version": 2
   },
   "file_extension": ".py",
   "mimetype": "text/x-python",
   "name": "python",
   "nbconvert_exporter": "python",
   "pygments_lexer": "ipython2",
   "version": "3.9.5"
  }
 },
 "nbformat": 4,
 "nbformat_minor": 0
}